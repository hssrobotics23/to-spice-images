{
 "cells": [
  {
   "cell_type": "markdown",
   "id": "6dd4c35e-8394-4b48-9222-a45203a45261",
   "metadata": {},
   "source": [
    "## Reading generated images"
   ]
  },
  {
   "cell_type": "code",
   "execution_count": null,
   "id": "12f8b14e-6558-4516-8f7d-ef2f0e6d4faa",
   "metadata": {},
   "outputs": [],
   "source": [
    "import cv2\n",
    "import json\n",
    "import time\n",
    "import requests\n",
    "import numpy as np\n",
    "from matplotlib import pyplot as plt\n",
    "BASE_URL = \"https://dgmd-s17-assets.s3.amazonaws.com/train/generated-text-images/\""
   ]
  },
  {
   "cell_type": "code",
   "execution_count": null,
   "id": "b07ac174-ae27-4fb4-a554-5fada3bf584b",
   "metadata": {},
   "outputs": [],
   "source": [
    "with open('merged.json', 'r') as rf:\n",
    "    data = json.load(rf)\n",
    "\n",
    "prompts = data[\"prompts\"]\n",
    "sources = data[\"images\"]"
   ]
  },
  {
   "cell_type": "code",
   "execution_count": null,
   "id": "35ebc63a-72dc-45f5-8857-a560ff45250a",
   "metadata": {},
   "outputs": [],
   "source": [
    "for src in sources:\n",
    "    image_url = BASE_URL + src[\"file_name\"]\n",
    "    resp = requests.get(image_url, stream=True).raw\n",
    "    arr = np.asarray(bytearray(resp.read()), dtype=\"uint8\")\n",
    "    img = cv2.imdecode(arr, cv2.IMREAD_COLOR)[:,:,::-1]\n",
    "    plt.imshow(img)\n",
    "    plt.show()\n",
    "    time.sleep(0.1)"
   ]
  }
 ],
 "metadata": {
  "kernelspec": {
   "display_name": "Python 3 (ipykernel)",
   "language": "python",
   "name": "python3"
  },
  "language_info": {
   "codemirror_mode": {
    "name": "ipython",
    "version": 3
   },
   "file_extension": ".py",
   "mimetype": "text/x-python",
   "name": "python",
   "nbconvert_exporter": "python",
   "pygments_lexer": "ipython3",
   "version": "3.9.17"
  }
 },
 "nbformat": 4,
 "nbformat_minor": 5
}
